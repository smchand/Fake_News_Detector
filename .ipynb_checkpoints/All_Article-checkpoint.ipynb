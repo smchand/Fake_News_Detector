{
 "cells": [
  {
   "cell_type": "code",
   "execution_count": 1,
   "id": "5b1bd7bc",
   "metadata": {},
   "outputs": [],
   "source": [
    "import pandas as pd\n",
    "import numpy as np\n",
    "import matplotlib.pyplot as plt\n",
    "import seaborn as sns"
   ]
  },
  {
   "cell_type": "code",
   "execution_count": 2,
   "id": "3fff6a05",
   "metadata": {},
   "outputs": [],
   "source": [
    "df = pd.read_csv('train.csv')"
   ]
  },
  {
   "cell_type": "code",
   "execution_count": 3,
   "id": "aac320d4",
   "metadata": {},
   "outputs": [
    {
     "data": {
      "text/html": [
       "<div>\n",
       "<style scoped>\n",
       "    .dataframe tbody tr th:only-of-type {\n",
       "        vertical-align: middle;\n",
       "    }\n",
       "\n",
       "    .dataframe tbody tr th {\n",
       "        vertical-align: top;\n",
       "    }\n",
       "\n",
       "    .dataframe thead th {\n",
       "        text-align: right;\n",
       "    }\n",
       "</style>\n",
       "<table border=\"1\" class=\"dataframe\">\n",
       "  <thead>\n",
       "    <tr style=\"text-align: right;\">\n",
       "      <th></th>\n",
       "      <th>id</th>\n",
       "      <th>title</th>\n",
       "      <th>author</th>\n",
       "      <th>text</th>\n",
       "      <th>label</th>\n",
       "    </tr>\n",
       "  </thead>\n",
       "  <tbody>\n",
       "    <tr>\n",
       "      <th>0</th>\n",
       "      <td>0</td>\n",
       "      <td>House Dem Aide: We Didn’t Even See Comey’s Let...</td>\n",
       "      <td>Darrell Lucus</td>\n",
       "      <td>House Dem Aide: We Didn’t Even See Comey’s Let...</td>\n",
       "      <td>1</td>\n",
       "    </tr>\n",
       "    <tr>\n",
       "      <th>1</th>\n",
       "      <td>1</td>\n",
       "      <td>FLYNN: Hillary Clinton, Big Woman on Campus - ...</td>\n",
       "      <td>Daniel J. Flynn</td>\n",
       "      <td>Ever get the feeling your life circles the rou...</td>\n",
       "      <td>0</td>\n",
       "    </tr>\n",
       "    <tr>\n",
       "      <th>2</th>\n",
       "      <td>2</td>\n",
       "      <td>Why the Truth Might Get You Fired</td>\n",
       "      <td>Consortiumnews.com</td>\n",
       "      <td>Why the Truth Might Get You Fired October 29, ...</td>\n",
       "      <td>1</td>\n",
       "    </tr>\n",
       "    <tr>\n",
       "      <th>3</th>\n",
       "      <td>3</td>\n",
       "      <td>15 Civilians Killed In Single US Airstrike Hav...</td>\n",
       "      <td>Jessica Purkiss</td>\n",
       "      <td>Videos 15 Civilians Killed In Single US Airstr...</td>\n",
       "      <td>1</td>\n",
       "    </tr>\n",
       "    <tr>\n",
       "      <th>4</th>\n",
       "      <td>4</td>\n",
       "      <td>Iranian woman jailed for fictional unpublished...</td>\n",
       "      <td>Howard Portnoy</td>\n",
       "      <td>Print \\nAn Iranian woman has been sentenced to...</td>\n",
       "      <td>1</td>\n",
       "    </tr>\n",
       "  </tbody>\n",
       "</table>\n",
       "</div>"
      ],
      "text/plain": [
       "   id                                              title              author  \\\n",
       "0   0  House Dem Aide: We Didn’t Even See Comey’s Let...       Darrell Lucus   \n",
       "1   1  FLYNN: Hillary Clinton, Big Woman on Campus - ...     Daniel J. Flynn   \n",
       "2   2                  Why the Truth Might Get You Fired  Consortiumnews.com   \n",
       "3   3  15 Civilians Killed In Single US Airstrike Hav...     Jessica Purkiss   \n",
       "4   4  Iranian woman jailed for fictional unpublished...      Howard Portnoy   \n",
       "\n",
       "                                                text  label  \n",
       "0  House Dem Aide: We Didn’t Even See Comey’s Let...      1  \n",
       "1  Ever get the feeling your life circles the rou...      0  \n",
       "2  Why the Truth Might Get You Fired October 29, ...      1  \n",
       "3  Videos 15 Civilians Killed In Single US Airstr...      1  \n",
       "4  Print \\nAn Iranian woman has been sentenced to...      1  "
      ]
     },
     "execution_count": 3,
     "metadata": {},
     "output_type": "execute_result"
    }
   ],
   "source": [
    "df.head()"
   ]
  },
  {
   "cell_type": "code",
   "execution_count": 4,
   "id": "81022b4d",
   "metadata": {},
   "outputs": [
    {
     "data": {
      "text/plain": [
       "id           0\n",
       "title      558\n",
       "author    1957\n",
       "text        39\n",
       "label        0\n",
       "dtype: int64"
      ]
     },
     "execution_count": 4,
     "metadata": {},
     "output_type": "execute_result"
    }
   ],
   "source": [
    "df.isnull().sum()"
   ]
  },
  {
   "cell_type": "code",
   "execution_count": 5,
   "id": "e779c89a",
   "metadata": {},
   "outputs": [
    {
     "data": {
      "text/plain": [
       "id        0\n",
       "title     0\n",
       "author    0\n",
       "text      0\n",
       "label     0\n",
       "dtype: int64"
      ]
     },
     "execution_count": 5,
     "metadata": {},
     "output_type": "execute_result"
    }
   ],
   "source": [
    "df = df.fillna('')\n",
    "df.isnull().sum()"
   ]
  },
  {
   "cell_type": "code",
   "execution_count": 6,
   "id": "d40f0529",
   "metadata": {},
   "outputs": [],
   "source": [
    "df['content'] = df['author'] + ' ' + df['text']"
   ]
  },
  {
   "cell_type": "code",
   "execution_count": 7,
   "id": "d6fe32ad",
   "metadata": {},
   "outputs": [],
   "source": [
    "df = df.drop('text',axis=1)\n",
    "df = df.drop('author',axis=1)"
   ]
  },
  {
   "cell_type": "code",
   "execution_count": 8,
   "id": "c762f475",
   "metadata": {},
   "outputs": [
    {
     "data": {
      "text/html": [
       "<div>\n",
       "<style scoped>\n",
       "    .dataframe tbody tr th:only-of-type {\n",
       "        vertical-align: middle;\n",
       "    }\n",
       "\n",
       "    .dataframe tbody tr th {\n",
       "        vertical-align: top;\n",
       "    }\n",
       "\n",
       "    .dataframe thead th {\n",
       "        text-align: right;\n",
       "    }\n",
       "</style>\n",
       "<table border=\"1\" class=\"dataframe\">\n",
       "  <thead>\n",
       "    <tr style=\"text-align: right;\">\n",
       "      <th></th>\n",
       "      <th>id</th>\n",
       "      <th>title</th>\n",
       "      <th>label</th>\n",
       "      <th>content</th>\n",
       "    </tr>\n",
       "  </thead>\n",
       "  <tbody>\n",
       "    <tr>\n",
       "      <th>0</th>\n",
       "      <td>0</td>\n",
       "      <td>House Dem Aide: We Didn’t Even See Comey’s Let...</td>\n",
       "      <td>1</td>\n",
       "      <td>Darrell Lucus House Dem Aide: We Didn’t Even S...</td>\n",
       "    </tr>\n",
       "    <tr>\n",
       "      <th>1</th>\n",
       "      <td>1</td>\n",
       "      <td>FLYNN: Hillary Clinton, Big Woman on Campus - ...</td>\n",
       "      <td>0</td>\n",
       "      <td>Daniel J. Flynn Ever get the feeling your life...</td>\n",
       "    </tr>\n",
       "    <tr>\n",
       "      <th>2</th>\n",
       "      <td>2</td>\n",
       "      <td>Why the Truth Might Get You Fired</td>\n",
       "      <td>1</td>\n",
       "      <td>Consortiumnews.com Why the Truth Might Get You...</td>\n",
       "    </tr>\n",
       "    <tr>\n",
       "      <th>3</th>\n",
       "      <td>3</td>\n",
       "      <td>15 Civilians Killed In Single US Airstrike Hav...</td>\n",
       "      <td>1</td>\n",
       "      <td>Jessica Purkiss Videos 15 Civilians Killed In ...</td>\n",
       "    </tr>\n",
       "    <tr>\n",
       "      <th>4</th>\n",
       "      <td>4</td>\n",
       "      <td>Iranian woman jailed for fictional unpublished...</td>\n",
       "      <td>1</td>\n",
       "      <td>Howard Portnoy Print \\nAn Iranian woman has be...</td>\n",
       "    </tr>\n",
       "  </tbody>\n",
       "</table>\n",
       "</div>"
      ],
      "text/plain": [
       "   id                                              title  label  \\\n",
       "0   0  House Dem Aide: We Didn’t Even See Comey’s Let...      1   \n",
       "1   1  FLYNN: Hillary Clinton, Big Woman on Campus - ...      0   \n",
       "2   2                  Why the Truth Might Get You Fired      1   \n",
       "3   3  15 Civilians Killed In Single US Airstrike Hav...      1   \n",
       "4   4  Iranian woman jailed for fictional unpublished...      1   \n",
       "\n",
       "                                             content  \n",
       "0  Darrell Lucus House Dem Aide: We Didn’t Even S...  \n",
       "1  Daniel J. Flynn Ever get the feeling your life...  \n",
       "2  Consortiumnews.com Why the Truth Might Get You...  \n",
       "3  Jessica Purkiss Videos 15 Civilians Killed In ...  \n",
       "4  Howard Portnoy Print \\nAn Iranian woman has be...  "
      ]
     },
     "execution_count": 8,
     "metadata": {},
     "output_type": "execute_result"
    }
   ],
   "source": [
    "df.head()"
   ]
  },
  {
   "cell_type": "code",
   "execution_count": 9,
   "id": "c9ad9401",
   "metadata": {},
   "outputs": [
    {
     "data": {
      "text/html": [
       "<div>\n",
       "<style scoped>\n",
       "    .dataframe tbody tr th:only-of-type {\n",
       "        vertical-align: middle;\n",
       "    }\n",
       "\n",
       "    .dataframe tbody tr th {\n",
       "        vertical-align: top;\n",
       "    }\n",
       "\n",
       "    .dataframe thead tr th {\n",
       "        text-align: left;\n",
       "    }\n",
       "\n",
       "    .dataframe thead tr:last-of-type th {\n",
       "        text-align: right;\n",
       "    }\n",
       "</style>\n",
       "<table border=\"1\" class=\"dataframe\">\n",
       "  <thead>\n",
       "    <tr>\n",
       "      <th></th>\n",
       "      <th colspan=\"8\" halign=\"left\">id</th>\n",
       "    </tr>\n",
       "    <tr>\n",
       "      <th></th>\n",
       "      <th>count</th>\n",
       "      <th>mean</th>\n",
       "      <th>std</th>\n",
       "      <th>min</th>\n",
       "      <th>25%</th>\n",
       "      <th>50%</th>\n",
       "      <th>75%</th>\n",
       "      <th>max</th>\n",
       "    </tr>\n",
       "    <tr>\n",
       "      <th>label</th>\n",
       "      <th></th>\n",
       "      <th></th>\n",
       "      <th></th>\n",
       "      <th></th>\n",
       "      <th></th>\n",
       "      <th></th>\n",
       "      <th></th>\n",
       "      <th></th>\n",
       "    </tr>\n",
       "  </thead>\n",
       "  <tbody>\n",
       "    <tr>\n",
       "      <th>0</th>\n",
       "      <td>10387.0</td>\n",
       "      <td>10392.644171</td>\n",
       "      <td>5982.025154</td>\n",
       "      <td>1.0</td>\n",
       "      <td>5225.5</td>\n",
       "      <td>10396.0</td>\n",
       "      <td>15565.5</td>\n",
       "      <td>20797.0</td>\n",
       "    </tr>\n",
       "    <tr>\n",
       "      <th>1</th>\n",
       "      <td>10413.0</td>\n",
       "      <td>10406.338711</td>\n",
       "      <td>6027.288133</td>\n",
       "      <td>0.0</td>\n",
       "      <td>5159.0</td>\n",
       "      <td>10403.0</td>\n",
       "      <td>15629.0</td>\n",
       "      <td>20799.0</td>\n",
       "    </tr>\n",
       "  </tbody>\n",
       "</table>\n",
       "</div>"
      ],
      "text/plain": [
       "            id                                                            \\\n",
       "         count          mean          std  min     25%      50%      75%   \n",
       "label                                                                      \n",
       "0      10387.0  10392.644171  5982.025154  1.0  5225.5  10396.0  15565.5   \n",
       "1      10413.0  10406.338711  6027.288133  0.0  5159.0  10403.0  15629.0   \n",
       "\n",
       "                \n",
       "           max  \n",
       "label           \n",
       "0      20797.0  \n",
       "1      20799.0  "
      ]
     },
     "execution_count": 9,
     "metadata": {},
     "output_type": "execute_result"
    }
   ],
   "source": [
    "df.groupby('label').describe()"
   ]
  },
  {
   "cell_type": "code",
   "execution_count": 10,
   "id": "7d3af2fd",
   "metadata": {},
   "outputs": [],
   "source": [
    "import string\n",
    "from nltk.corpus import stopwords\n",
    "import re\n",
    "from nltk.stem.porter import PorterStemmer\n",
    "port_stem = PorterStemmer()"
   ]
  },
  {
   "cell_type": "code",
   "execution_count": 11,
   "id": "ed97444a",
   "metadata": {},
   "outputs": [],
   "source": [
    "def text_process(mess):\n",
    "    # Check characters to see if they are in punctuation\n",
    "    nopunc = [char for char in mess if char not in string.punctuation]\n",
    "\n",
    "    # Join the characters again to form the string.\n",
    "    nopunc = ''.join(nopunc)\n",
    "    \n",
    "    # Now just remove any stopwords\n",
    "    return [word for word in nopunc.split() if word.lower() not in stopwords.words('english')]"
   ]
  },
  {
   "cell_type": "code",
   "execution_count": 12,
   "id": "4da98397",
   "metadata": {},
   "outputs": [
    {
     "data": {
      "text/plain": [
       "0    [Darrell, Lucus, House, Dem, Aide, Didn’t, Eve...\n",
       "1    [Daniel, J, Flynn, Ever, get, feeling, life, c...\n",
       "2    [Consortiumnewscom, Truth, Might, Get, Fired, ...\n",
       "3    [Jessica, Purkiss, Videos, 15, Civilians, Kill...\n",
       "4    [Howard, Portnoy, Print, Iranian, woman, sente...\n",
       "Name: content, dtype: object"
      ]
     },
     "execution_count": 12,
     "metadata": {},
     "output_type": "execute_result"
    }
   ],
   "source": [
    "df['content'].head(5).apply(text_process)"
   ]
  },
  {
   "cell_type": "code",
   "execution_count": 13,
   "id": "92111534",
   "metadata": {},
   "outputs": [],
   "source": [
    "from sklearn.feature_extraction.text import CountVectorizer"
   ]
  },
  {
   "cell_type": "code",
   "execution_count": 14,
   "id": "a52e9237",
   "metadata": {},
   "outputs": [
    {
     "name": "stdout",
     "output_type": "stream",
     "text": [
      "311159\n"
     ]
    }
   ],
   "source": [
    "all_words = CountVectorizer(analyzer=text_process).fit(df['content'])\n",
    "\n",
    "print(len(all_words.vocabulary_))"
   ]
  },
  {
   "cell_type": "code",
   "execution_count": 15,
   "id": "fd49441e",
   "metadata": {},
   "outputs": [],
   "source": [
    "messages_bow = all_words.transform(df['content'])"
   ]
  },
  {
   "cell_type": "code",
   "execution_count": 16,
   "id": "129e097f",
   "metadata": {},
   "outputs": [
    {
     "name": "stdout",
     "output_type": "stream",
     "text": [
      "Shape of Sparse Matrix:  (20800, 311159)\n",
      "Amount of Non-Zero occurences:  6265638\n"
     ]
    }
   ],
   "source": [
    "print('Shape of Sparse Matrix: ', messages_bow.shape)\n",
    "print('Amount of Non-Zero occurences: ', messages_bow.nnz)"
   ]
  },
  {
   "cell_type": "code",
   "execution_count": 17,
   "id": "56e0db49",
   "metadata": {},
   "outputs": [],
   "source": [
    "from sklearn.feature_extraction.text import TfidfTransformer\n"
   ]
  },
  {
   "cell_type": "code",
   "execution_count": 18,
   "id": "621b6b8c",
   "metadata": {},
   "outputs": [
    {
     "name": "stdout",
     "output_type": "stream",
     "text": [
      "  (0, 2718)\t1\n",
      "  (0, 2746)\t2\n",
      "  (0, 3434)\t2\n",
      "  (0, 5096)\t1\n",
      "  (0, 5281)\t1\n",
      "  (0, 5726)\t2\n",
      "  (0, 5883)\t1\n",
      "  (0, 9753)\t1\n",
      "  (0, 11460)\t1\n",
      "  (0, 12166)\t2\n",
      "  (0, 18953)\t1\n",
      "  (0, 19121)\t1\n",
      "  (0, 19868)\t1\n",
      "  (0, 22481)\t1\n",
      "  (0, 27162)\t1\n",
      "  (0, 28766)\t6\n",
      "  (0, 28914)\t1\n",
      "  (0, 29438)\t1\n",
      "  (0, 33726)\t1\n",
      "  (0, 34133)\t1\n",
      "  (0, 34988)\t2\n",
      "  (0, 35468)\t1\n",
      "  (0, 39316)\t1\n",
      "  (0, 39417)\t1\n",
      "  (0, 39791)\t1\n",
      "  :\t:\n",
      "  (0, 250425)\t1\n",
      "  (0, 250518)\t1\n",
      "  (0, 250531)\t1\n",
      "  (0, 250548)\t1\n",
      "  (0, 251552)\t1\n",
      "  (0, 280672)\t5\n",
      "  (0, 282358)\t1\n",
      "  (0, 286362)\t1\n",
      "  (0, 286796)\t1\n",
      "  (0, 290095)\t1\n",
      "  (0, 294858)\t1\n",
      "  (0, 295206)\t1\n",
      "  (0, 295836)\t1\n",
      "  (0, 296099)\t1\n",
      "  (0, 296484)\t1\n",
      "  (0, 298359)\t1\n",
      "  (0, 298525)\t1\n",
      "  (0, 299855)\t1\n",
      "  (0, 299900)\t1\n",
      "  (0, 300757)\t1\n",
      "  (0, 302973)\t1\n",
      "  (0, 304030)\t1\n",
      "  (0, 308251)\t1\n",
      "  (0, 308620)\t1\n",
      "  (0, 310142)\t3\n",
      "(1, 311159)\n",
      "  (0, 310142)\t0.04416749898182634\n",
      "  (0, 308620)\t0.07479830349562151\n",
      "  (0, 308251)\t0.05013064909666193\n",
      "  (0, 304030)\t0.044282395460433006\n",
      "  (0, 302973)\t0.07580567177067661\n",
      "  (0, 300757)\t0.04981770888129323\n",
      "  (0, 299900)\t0.08419445430819358\n",
      "  (0, 299855)\t0.07826614319149724\n",
      "  (0, 298525)\t0.08419445430819358\n",
      "  (0, 298359)\t0.08173398288737295\n",
      "  (0, 296484)\t0.06715370708185099\n",
      "  (0, 296099)\t0.03016535531049999\n",
      "  (0, 295836)\t0.04353820933668656\n",
      "  (0, 295206)\t0.08766229400406929\n",
      "  (0, 294858)\t0.037935517884316684\n",
      "  (0, 290095)\t0.01990211445534657\n",
      "  (0, 286796)\t0.05549370833663131\n",
      "  (0, 286362)\t0.03775864536136098\n",
      "  (0, 282358)\t0.08766229400406929\n",
      "  (0, 280672)\t0.07300775716017055\n",
      "  (0, 251552)\t0.016771497005532248\n",
      "  (0, 250548)\t0.04447216304038405\n",
      "  (0, 250531)\t0.02846311623935988\n",
      "  (0, 250518)\t0.03186165154457321\n",
      "  (0, 250425)\t0.05151126261668347\n",
      "  :\t:\n",
      "  (0, 39791)\t0.035373529009932146\n",
      "  (0, 39417)\t0.043489196336942405\n",
      "  (0, 39316)\t0.08766229400406929\n",
      "  (0, 35468)\t0.03408490392923017\n",
      "  (0, 34988)\t0.05269592765706742\n",
      "  (0, 34133)\t0.032656758935195686\n",
      "  (0, 33726)\t0.03824750670233386\n",
      "  (0, 29438)\t0.03705100725449179\n",
      "  (0, 28914)\t0.02896240321773035\n",
      "  (0, 28766)\t0.12807416069425615\n",
      "  (0, 27162)\t0.04102261799329974\n",
      "  (0, 22481)\t0.0647909823826513\n",
      "  (0, 19868)\t0.02920730236310632\n",
      "  (0, 19121)\t0.0684075692198978\n",
      "  (0, 18953)\t0.04719239071819598\n",
      "  (0, 12166)\t0.03771731283900078\n",
      "  (0, 11460)\t0.06270734482139637\n",
      "  (0, 9753)\t0.04951581595036243\n",
      "  (0, 5883)\t0.029655934476336274\n",
      "  (0, 5726)\t0.08649651601688438\n",
      "  (0, 5281)\t0.03915451459758787\n",
      "  (0, 5096)\t0.04195023450447577\n",
      "  (0, 3434)\t0.037916023574284086\n",
      "  (0, 2746)\t0.10646897452206798\n",
      "  (0, 2718)\t0.04371200113738483\n"
     ]
    }
   ],
   "source": [
    "text2 = df['content'][1]\n",
    "\n",
    "bow2 = all_words.transform([text2])\n",
    "print(bow2)\n",
    "print(bow2.shape)\n",
    "\n",
    "tfidf_transformer = TfidfTransformer().fit(messages_bow)\n",
    "tfidf4 = tfidf_transformer.transform(bow2)\n",
    "print(tfidf4)"
   ]
  },
  {
   "cell_type": "code",
   "execution_count": 19,
   "id": "0758bdde",
   "metadata": {},
   "outputs": [
    {
     "name": "stdout",
     "output_type": "stream",
     "text": [
      "(20800, 311159)\n"
     ]
    }
   ],
   "source": [
    "contents_tfidf = tfidf_transformer.transform(messages_bow)\n",
    "print(contents_tfidf.shape)"
   ]
  },
  {
   "cell_type": "code",
   "execution_count": 20,
   "id": "08af6565",
   "metadata": {},
   "outputs": [],
   "source": [
    "from sklearn.naive_bayes import MultinomialNB\n",
    "from sklearn.model_selection import train_test_split\n",
    "\n",
    "X_train, X_test, y_train, y_test = train_test_split(contents_tfidf, df['label'], test_size=0.33, random_state=42)\n",
    "\n",
    "model = MultinomialNB().fit(X_train, y_train)"
   ]
  },
  {
   "cell_type": "code",
   "execution_count": 21,
   "id": "df835485",
   "metadata": {},
   "outputs": [
    {
     "name": "stdout",
     "output_type": "stream",
     "text": [
      "              precision    recall  f1-score   support\n",
      "\n",
      "           0       0.78      1.00      0.88      3449\n",
      "           1       1.00      0.72      0.83      3415\n",
      "\n",
      "    accuracy                           0.86      6864\n",
      "   macro avg       0.89      0.86      0.86      6864\n",
      "weighted avg       0.89      0.86      0.86      6864\n",
      "\n"
     ]
    }
   ],
   "source": [
    "from sklearn.metrics import classification_report\n",
    "all_predictions = model.predict(X_test)\n",
    "print (classification_report(y_test, all_predictions))"
   ]
  },
  {
   "cell_type": "code",
   "execution_count": 22,
   "id": "1c26309c",
   "metadata": {},
   "outputs": [],
   "source": [
    "from sklearn.linear_model import LogisticRegression\n",
    "lr = LogisticRegression()"
   ]
  },
  {
   "cell_type": "code",
   "execution_count": 26,
   "id": "2e0f32a6",
   "metadata": {},
   "outputs": [
    {
     "name": "stdout",
     "output_type": "stream",
     "text": [
      "              precision    recall  f1-score   support\n",
      "\n",
      "           0       0.99      0.96      0.97      3449\n",
      "           1       0.96      0.99      0.97      3415\n",
      "\n",
      "    accuracy                           0.97      6864\n",
      "   macro avg       0.97      0.97      0.97      6864\n",
      "weighted avg       0.97      0.97      0.97      6864\n",
      "\n"
     ]
    }
   ],
   "source": [
    "lr.fit(X_train, y_train)\n",
    "lr_pred = lr.predict(X_test)\n",
    "print (classification_report(y_test, lr_pred))"
   ]
  },
  {
   "cell_type": "code",
   "execution_count": null,
   "id": "eb8512fa",
   "metadata": {},
   "outputs": [],
   "source": []
  },
  {
   "cell_type": "code",
   "execution_count": 45,
   "id": "7602b213",
   "metadata": {},
   "outputs": [],
   "source": [
    "from sklearn.model_selection import train_test_split"
   ]
  },
  {
   "cell_type": "code",
   "execution_count": null,
   "id": "bec5dee8",
   "metadata": {},
   "outputs": [],
   "source": [
    "train_test_split"
   ]
  }
 ],
 "metadata": {
  "kernelspec": {
   "display_name": "Python 3 (ipykernel)",
   "language": "python",
   "name": "python3"
  },
  "language_info": {
   "codemirror_mode": {
    "name": "ipython",
    "version": 3
   },
   "file_extension": ".py",
   "mimetype": "text/x-python",
   "name": "python",
   "nbconvert_exporter": "python",
   "pygments_lexer": "ipython3",
   "version": "3.9.7"
  }
 },
 "nbformat": 4,
 "nbformat_minor": 5
}
