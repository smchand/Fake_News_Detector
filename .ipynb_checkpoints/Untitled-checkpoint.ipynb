{
 "cells": [
  {
   "cell_type": "code",
   "execution_count": 16,
   "id": "5b1bd7bc",
   "metadata": {},
   "outputs": [],
   "source": [
    "import pandas as pd\n",
    "import numpy as np\n",
    "import matplotlib.pyplot as plt\n",
    "import seaborn as sns"
   ]
  },
  {
   "cell_type": "code",
   "execution_count": 17,
   "id": "3fff6a05",
   "metadata": {},
   "outputs": [],
   "source": [
    "df = pd.read_csv('train.csv')"
   ]
  },
  {
   "cell_type": "code",
   "execution_count": 18,
   "id": "aac320d4",
   "metadata": {},
   "outputs": [
    {
     "data": {
      "text/html": [
       "<div>\n",
       "<style scoped>\n",
       "    .dataframe tbody tr th:only-of-type {\n",
       "        vertical-align: middle;\n",
       "    }\n",
       "\n",
       "    .dataframe tbody tr th {\n",
       "        vertical-align: top;\n",
       "    }\n",
       "\n",
       "    .dataframe thead th {\n",
       "        text-align: right;\n",
       "    }\n",
       "</style>\n",
       "<table border=\"1\" class=\"dataframe\">\n",
       "  <thead>\n",
       "    <tr style=\"text-align: right;\">\n",
       "      <th></th>\n",
       "      <th>id</th>\n",
       "      <th>title</th>\n",
       "      <th>author</th>\n",
       "      <th>text</th>\n",
       "      <th>label</th>\n",
       "    </tr>\n",
       "  </thead>\n",
       "  <tbody>\n",
       "    <tr>\n",
       "      <th>0</th>\n",
       "      <td>0</td>\n",
       "      <td>House Dem Aide: We Didn’t Even See Comey’s Let...</td>\n",
       "      <td>Darrell Lucus</td>\n",
       "      <td>House Dem Aide: We Didn’t Even See Comey’s Let...</td>\n",
       "      <td>1</td>\n",
       "    </tr>\n",
       "    <tr>\n",
       "      <th>1</th>\n",
       "      <td>1</td>\n",
       "      <td>FLYNN: Hillary Clinton, Big Woman on Campus - ...</td>\n",
       "      <td>Daniel J. Flynn</td>\n",
       "      <td>Ever get the feeling your life circles the rou...</td>\n",
       "      <td>0</td>\n",
       "    </tr>\n",
       "    <tr>\n",
       "      <th>2</th>\n",
       "      <td>2</td>\n",
       "      <td>Why the Truth Might Get You Fired</td>\n",
       "      <td>Consortiumnews.com</td>\n",
       "      <td>Why the Truth Might Get You Fired October 29, ...</td>\n",
       "      <td>1</td>\n",
       "    </tr>\n",
       "    <tr>\n",
       "      <th>3</th>\n",
       "      <td>3</td>\n",
       "      <td>15 Civilians Killed In Single US Airstrike Hav...</td>\n",
       "      <td>Jessica Purkiss</td>\n",
       "      <td>Videos 15 Civilians Killed In Single US Airstr...</td>\n",
       "      <td>1</td>\n",
       "    </tr>\n",
       "    <tr>\n",
       "      <th>4</th>\n",
       "      <td>4</td>\n",
       "      <td>Iranian woman jailed for fictional unpublished...</td>\n",
       "      <td>Howard Portnoy</td>\n",
       "      <td>Print \\nAn Iranian woman has been sentenced to...</td>\n",
       "      <td>1</td>\n",
       "    </tr>\n",
       "  </tbody>\n",
       "</table>\n",
       "</div>"
      ],
      "text/plain": [
       "   id                                              title              author  \\\n",
       "0   0  House Dem Aide: We Didn’t Even See Comey’s Let...       Darrell Lucus   \n",
       "1   1  FLYNN: Hillary Clinton, Big Woman on Campus - ...     Daniel J. Flynn   \n",
       "2   2                  Why the Truth Might Get You Fired  Consortiumnews.com   \n",
       "3   3  15 Civilians Killed In Single US Airstrike Hav...     Jessica Purkiss   \n",
       "4   4  Iranian woman jailed for fictional unpublished...      Howard Portnoy   \n",
       "\n",
       "                                                text  label  \n",
       "0  House Dem Aide: We Didn’t Even See Comey’s Let...      1  \n",
       "1  Ever get the feeling your life circles the rou...      0  \n",
       "2  Why the Truth Might Get You Fired October 29, ...      1  \n",
       "3  Videos 15 Civilians Killed In Single US Airstr...      1  \n",
       "4  Print \\nAn Iranian woman has been sentenced to...      1  "
      ]
     },
     "execution_count": 18,
     "metadata": {},
     "output_type": "execute_result"
    }
   ],
   "source": [
    "df.head()"
   ]
  },
  {
   "cell_type": "code",
   "execution_count": 19,
   "id": "81022b4d",
   "metadata": {},
   "outputs": [
    {
     "data": {
      "text/plain": [
       "id           0\n",
       "title      558\n",
       "author    1957\n",
       "text        39\n",
       "label        0\n",
       "dtype: int64"
      ]
     },
     "execution_count": 19,
     "metadata": {},
     "output_type": "execute_result"
    }
   ],
   "source": [
    "df.isnull().sum()"
   ]
  },
  {
   "cell_type": "code",
   "execution_count": 20,
   "id": "e779c89a",
   "metadata": {},
   "outputs": [
    {
     "data": {
      "text/plain": [
       "id        0\n",
       "title     0\n",
       "author    0\n",
       "text      0\n",
       "label     0\n",
       "dtype: int64"
      ]
     },
     "execution_count": 20,
     "metadata": {},
     "output_type": "execute_result"
    }
   ],
   "source": [
    "df = df.fillna('')\n",
    "df.isnull().sum()"
   ]
  },
  {
   "cell_type": "code",
   "execution_count": 21,
   "id": "d40f0529",
   "metadata": {},
   "outputs": [],
   "source": [
    "df['content'] = df['author'] + ' ' + df['text']"
   ]
  },
  {
   "cell_type": "code",
   "execution_count": 22,
   "id": "d6fe32ad",
   "metadata": {},
   "outputs": [],
   "source": [
    "df = df.drop('text',axis=1)\n",
    "df = df.drop('author',axis=1)"
   ]
  },
  {
   "cell_type": "code",
   "execution_count": 23,
   "id": "c762f475",
   "metadata": {},
   "outputs": [
    {
     "data": {
      "text/html": [
       "<div>\n",
       "<style scoped>\n",
       "    .dataframe tbody tr th:only-of-type {\n",
       "        vertical-align: middle;\n",
       "    }\n",
       "\n",
       "    .dataframe tbody tr th {\n",
       "        vertical-align: top;\n",
       "    }\n",
       "\n",
       "    .dataframe thead th {\n",
       "        text-align: right;\n",
       "    }\n",
       "</style>\n",
       "<table border=\"1\" class=\"dataframe\">\n",
       "  <thead>\n",
       "    <tr style=\"text-align: right;\">\n",
       "      <th></th>\n",
       "      <th>id</th>\n",
       "      <th>title</th>\n",
       "      <th>label</th>\n",
       "      <th>content</th>\n",
       "    </tr>\n",
       "  </thead>\n",
       "  <tbody>\n",
       "    <tr>\n",
       "      <th>0</th>\n",
       "      <td>0</td>\n",
       "      <td>House Dem Aide: We Didn’t Even See Comey’s Let...</td>\n",
       "      <td>1</td>\n",
       "      <td>Darrell Lucus House Dem Aide: We Didn’t Even S...</td>\n",
       "    </tr>\n",
       "    <tr>\n",
       "      <th>1</th>\n",
       "      <td>1</td>\n",
       "      <td>FLYNN: Hillary Clinton, Big Woman on Campus - ...</td>\n",
       "      <td>0</td>\n",
       "      <td>Daniel J. Flynn Ever get the feeling your life...</td>\n",
       "    </tr>\n",
       "    <tr>\n",
       "      <th>2</th>\n",
       "      <td>2</td>\n",
       "      <td>Why the Truth Might Get You Fired</td>\n",
       "      <td>1</td>\n",
       "      <td>Consortiumnews.com Why the Truth Might Get You...</td>\n",
       "    </tr>\n",
       "    <tr>\n",
       "      <th>3</th>\n",
       "      <td>3</td>\n",
       "      <td>15 Civilians Killed In Single US Airstrike Hav...</td>\n",
       "      <td>1</td>\n",
       "      <td>Jessica Purkiss Videos 15 Civilians Killed In ...</td>\n",
       "    </tr>\n",
       "    <tr>\n",
       "      <th>4</th>\n",
       "      <td>4</td>\n",
       "      <td>Iranian woman jailed for fictional unpublished...</td>\n",
       "      <td>1</td>\n",
       "      <td>Howard Portnoy Print \\nAn Iranian woman has be...</td>\n",
       "    </tr>\n",
       "  </tbody>\n",
       "</table>\n",
       "</div>"
      ],
      "text/plain": [
       "   id                                              title  label  \\\n",
       "0   0  House Dem Aide: We Didn’t Even See Comey’s Let...      1   \n",
       "1   1  FLYNN: Hillary Clinton, Big Woman on Campus - ...      0   \n",
       "2   2                  Why the Truth Might Get You Fired      1   \n",
       "3   3  15 Civilians Killed In Single US Airstrike Hav...      1   \n",
       "4   4  Iranian woman jailed for fictional unpublished...      1   \n",
       "\n",
       "                                             content  \n",
       "0  Darrell Lucus House Dem Aide: We Didn’t Even S...  \n",
       "1  Daniel J. Flynn Ever get the feeling your life...  \n",
       "2  Consortiumnews.com Why the Truth Might Get You...  \n",
       "3  Jessica Purkiss Videos 15 Civilians Killed In ...  \n",
       "4  Howard Portnoy Print \\nAn Iranian woman has be...  "
      ]
     },
     "execution_count": 23,
     "metadata": {},
     "output_type": "execute_result"
    }
   ],
   "source": [
    "df.head()"
   ]
  },
  {
   "cell_type": "code",
   "execution_count": 24,
   "id": "c9ad9401",
   "metadata": {},
   "outputs": [
    {
     "data": {
      "text/html": [
       "<div>\n",
       "<style scoped>\n",
       "    .dataframe tbody tr th:only-of-type {\n",
       "        vertical-align: middle;\n",
       "    }\n",
       "\n",
       "    .dataframe tbody tr th {\n",
       "        vertical-align: top;\n",
       "    }\n",
       "\n",
       "    .dataframe thead tr th {\n",
       "        text-align: left;\n",
       "    }\n",
       "\n",
       "    .dataframe thead tr:last-of-type th {\n",
       "        text-align: right;\n",
       "    }\n",
       "</style>\n",
       "<table border=\"1\" class=\"dataframe\">\n",
       "  <thead>\n",
       "    <tr>\n",
       "      <th></th>\n",
       "      <th colspan=\"8\" halign=\"left\">id</th>\n",
       "    </tr>\n",
       "    <tr>\n",
       "      <th></th>\n",
       "      <th>count</th>\n",
       "      <th>mean</th>\n",
       "      <th>std</th>\n",
       "      <th>min</th>\n",
       "      <th>25%</th>\n",
       "      <th>50%</th>\n",
       "      <th>75%</th>\n",
       "      <th>max</th>\n",
       "    </tr>\n",
       "    <tr>\n",
       "      <th>label</th>\n",
       "      <th></th>\n",
       "      <th></th>\n",
       "      <th></th>\n",
       "      <th></th>\n",
       "      <th></th>\n",
       "      <th></th>\n",
       "      <th></th>\n",
       "      <th></th>\n",
       "    </tr>\n",
       "  </thead>\n",
       "  <tbody>\n",
       "    <tr>\n",
       "      <th>0</th>\n",
       "      <td>10387.0</td>\n",
       "      <td>10392.644171</td>\n",
       "      <td>5982.025154</td>\n",
       "      <td>1.0</td>\n",
       "      <td>5225.5</td>\n",
       "      <td>10396.0</td>\n",
       "      <td>15565.5</td>\n",
       "      <td>20797.0</td>\n",
       "    </tr>\n",
       "    <tr>\n",
       "      <th>1</th>\n",
       "      <td>10413.0</td>\n",
       "      <td>10406.338711</td>\n",
       "      <td>6027.288133</td>\n",
       "      <td>0.0</td>\n",
       "      <td>5159.0</td>\n",
       "      <td>10403.0</td>\n",
       "      <td>15629.0</td>\n",
       "      <td>20799.0</td>\n",
       "    </tr>\n",
       "  </tbody>\n",
       "</table>\n",
       "</div>"
      ],
      "text/plain": [
       "            id                                                            \\\n",
       "         count          mean          std  min     25%      50%      75%   \n",
       "label                                                                      \n",
       "0      10387.0  10392.644171  5982.025154  1.0  5225.5  10396.0  15565.5   \n",
       "1      10413.0  10406.338711  6027.288133  0.0  5159.0  10403.0  15629.0   \n",
       "\n",
       "                \n",
       "           max  \n",
       "label           \n",
       "0      20797.0  \n",
       "1      20799.0  "
      ]
     },
     "execution_count": 24,
     "metadata": {},
     "output_type": "execute_result"
    }
   ],
   "source": [
    "df.groupby('label').describe()"
   ]
  },
  {
   "cell_type": "code",
   "execution_count": 25,
   "id": "7d3af2fd",
   "metadata": {},
   "outputs": [],
   "source": [
    "import string\n",
    "from nltk.corpus import stopwords\n",
    "import re\n",
    "from nltk.stem.porter import PorterStemmer\n",
    "port_stem = PorterStemmer()"
   ]
  },
  {
   "cell_type": "code",
   "execution_count": 26,
   "id": "ed97444a",
   "metadata": {},
   "outputs": [],
   "source": [
    "def text_process(mess):\n",
    "    review = re.sub('[^a-zA-Z]',' ',mess)\n",
    "    review = review.lower()\n",
    "    review = review.split()\n",
    "    review = [port_stem.stem(word) for word in review if not word in stopwords.words('english')]\n",
    "    review = ' '.join(review)\n",
    "    return review"
   ]
  },
  {
   "cell_type": "code",
   "execution_count": 27,
   "id": "4da98397",
   "metadata": {},
   "outputs": [
    {
     "data": {
      "text/plain": [
       "0    darrel lucu hous dem aid even see comey letter...\n",
       "1    daniel j flynn ever get feel life circl rounda...\n",
       "2    consortiumnew com truth might get fire octob t...\n",
       "3    jessica purkiss video civilian kill singl us a...\n",
       "4    howard portnoy print iranian woman sentenc six...\n",
       "Name: content, dtype: object"
      ]
     },
     "execution_count": 27,
     "metadata": {},
     "output_type": "execute_result"
    }
   ],
   "source": [
    "df['content'].head(5).apply(text_process)"
   ]
  },
  {
   "cell_type": "code",
   "execution_count": 28,
   "id": "92111534",
   "metadata": {},
   "outputs": [],
   "source": [
    "from sklearn.feature_extraction.text import CountVectorizer"
   ]
  },
  {
   "cell_type": "code",
   "execution_count": 29,
   "id": "a52e9237",
   "metadata": {},
   "outputs": [
    {
     "name": "stdout",
     "output_type": "stream",
     "text": [
      "27\n"
     ]
    }
   ],
   "source": [
    "all_words = CountVectorizer(analyzer=text_process).fit(df['content'])\n",
    "\n",
    "print(len(all_words.vocabulary_))"
   ]
  },
  {
   "cell_type": "code",
   "execution_count": 30,
   "id": "fd49441e",
   "metadata": {},
   "outputs": [],
   "source": [
    "messages_bow = all_words.transform(df['content'])"
   ]
  },
  {
   "cell_type": "code",
   "execution_count": 31,
   "id": "129e097f",
   "metadata": {},
   "outputs": [
    {
     "name": "stdout",
     "output_type": "stream",
     "text": [
      "Shape of Sparse Matrix:  (20800, 27)\n",
      "Amount of Non-Zero occurences:  533025\n"
     ]
    }
   ],
   "source": [
    "print('Shape of Sparse Matrix: ', messages_bow.shape)\n",
    "print('Amount of Non-Zero occurences: ', messages_bow.nnz)"
   ]
  },
  {
   "cell_type": "code",
   "execution_count": 32,
   "id": "56e0db49",
   "metadata": {},
   "outputs": [],
   "source": [
    "from sklearn.feature_extraction.text import TfidfTransformer\n"
   ]
  },
  {
   "cell_type": "code",
   "execution_count": 33,
   "id": "621b6b8c",
   "metadata": {},
   "outputs": [
    {
     "name": "stdout",
     "output_type": "stream",
     "text": [
      "  (0, 0)\t369\n",
      "  (0, 1)\t170\n",
      "  (0, 2)\t34\n",
      "  (0, 3)\t87\n",
      "  (0, 4)\t86\n",
      "  (0, 5)\t219\n",
      "  (0, 6)\t26\n",
      "  (0, 7)\t41\n",
      "  (0, 8)\t44\n",
      "  (0, 9)\t160\n",
      "  (0, 10)\t5\n",
      "  (0, 11)\t28\n",
      "  (0, 12)\t126\n",
      "  (0, 13)\t70\n",
      "  (0, 14)\t130\n",
      "  (0, 15)\t136\n",
      "  (0, 16)\t65\n",
      "  (0, 17)\t3\n",
      "  (0, 18)\t152\n",
      "  (0, 19)\t143\n",
      "  (0, 20)\t152\n",
      "  (0, 21)\t55\n",
      "  (0, 22)\t22\n",
      "  (0, 23)\t41\n",
      "  (0, 24)\t2\n",
      "  (0, 25)\t23\n",
      "  (0, 26)\t3\n",
      "(1, 27)\n",
      "  (0, 26)\t0.006782990450827265\n",
      "  (0, 25)\t0.03808472675420286\n",
      "  (0, 24)\t0.0036840625556144578\n",
      "  (0, 23)\t0.0670687715129621\n",
      "  (0, 22)\t0.035860255046678405\n",
      "  (0, 21)\t0.08838359262087549\n",
      "  (0, 20)\t0.2427265244661985\n",
      "  (0, 19)\t0.22938890422127522\n",
      "  (0, 18)\t0.24201573610946847\n",
      "  (0, 17)\t0.006478914050004315\n",
      "  (0, 16)\t0.10449854630325607\n",
      "  (0, 15)\t0.21738528819491804\n",
      "  (0, 14)\t0.20800466202196408\n",
      "  (0, 13)\t0.11253689601889115\n",
      "  (0, 12)\t0.20167237899720222\n",
      "  (0, 11)\t0.04573261651720362\n",
      "  (0, 10)\t0.009187330506262893\n",
      "  (0, 9)\t0.25583348191246325\n",
      "  (0, 8)\t0.07099303049848099\n",
      "  (0, 7)\t0.0665450307925549\n",
      "  (0, 6)\t0.04248643207398441\n",
      "  (0, 5)\t0.3492641593821308\n",
      "  (0, 4)\t0.13802714594312857\n",
      "  (0, 3)\t0.13977316790313668\n",
      "  (0, 2)\t0.05517306984100141\n",
      "  (0, 1)\t0.2708447152402513\n",
      "  (0, 0)\t0.5865936807987487\n"
     ]
    }
   ],
   "source": [
    "text2 = df['content'][1]\n",
    "\n",
    "bow2 = all_words.transform([text2])\n",
    "print(bow2)\n",
    "print(bow2.shape)\n",
    "\n",
    "tfidf_transformer = TfidfTransformer().fit(messages_bow)\n",
    "tfidf4 = tfidf_transformer.transform(bow2)\n",
    "print(tfidf4)"
   ]
  },
  {
   "cell_type": "code",
   "execution_count": 34,
   "id": "0758bdde",
   "metadata": {},
   "outputs": [
    {
     "name": "stdout",
     "output_type": "stream",
     "text": [
      "(20800, 27)\n"
     ]
    }
   ],
   "source": [
    "contents_tfidf = tfidf_transformer.transform(messages_bow)\n",
    "print(contents_tfidf.shape)"
   ]
  },
  {
   "cell_type": "code",
   "execution_count": 35,
   "id": "08af6565",
   "metadata": {},
   "outputs": [],
   "source": [
    "from sklearn.naive_bayes import MultinomialNB\n",
    "model = MultinomialNB().fit(contents_tfidf, df['label'])"
   ]
  },
  {
   "cell_type": "code",
   "execution_count": 40,
   "id": "df835485",
   "metadata": {},
   "outputs": [
    {
     "name": "stdout",
     "output_type": "stream",
     "text": [
      "              precision    recall  f1-score   support\n",
      "\n",
      "           0       0.67      0.47      0.55     10387\n",
      "           1       0.59      0.77      0.67     10413\n",
      "\n",
      "    accuracy                           0.62     20800\n",
      "   macro avg       0.63      0.62      0.61     20800\n",
      "weighted avg       0.63      0.62      0.61     20800\n",
      "\n"
     ]
    }
   ],
   "source": [
    "from sklearn.metrics import classification_report\n",
    "all_predictions = model.predict(contents_tfidf)\n",
    "print (classification_report(df['label'], all_predictions))"
   ]
  },
  {
   "cell_type": "code",
   "execution_count": 37,
   "id": "1c26309c",
   "metadata": {},
   "outputs": [],
   "source": [
    "from sklearn.linear_model import LogisticRegression\n",
    "lr = LogisticRegression()"
   ]
  },
  {
   "cell_type": "code",
   "execution_count": 38,
   "id": "2e0f32a6",
   "metadata": {},
   "outputs": [
    {
     "data": {
      "text/plain": [
       "LogisticRegression()"
      ]
     },
     "execution_count": 38,
     "metadata": {},
     "output_type": "execute_result"
    }
   ],
   "source": [
    "lr.fit(contents_tfidf, df['label'])"
   ]
  },
  {
   "cell_type": "code",
   "execution_count": 44,
   "id": "eb8512fa",
   "metadata": {},
   "outputs": [
    {
     "name": "stdout",
     "output_type": "stream",
     "text": [
      "              precision    recall  f1-score   support\n",
      "\n",
      "           0       0.66      0.75      0.71     10387\n",
      "           1       0.72      0.62      0.67     10413\n",
      "\n",
      "    accuracy                           0.69     20800\n",
      "   macro avg       0.69      0.69      0.69     20800\n",
      "weighted avg       0.69      0.69      0.69     20800\n",
      "\n"
     ]
    }
   ],
   "source": [
    "lr_pred = lr.predict(contents_tfidf)\n",
    "print (classification_report(df['label'], lr_pred))"
   ]
  },
  {
   "cell_type": "code",
   "execution_count": 45,
   "id": "7602b213",
   "metadata": {},
   "outputs": [],
   "source": [
    "from sklearn.model_selection import train_test_split"
   ]
  },
  {
   "cell_type": "code",
   "execution_count": null,
   "id": "bec5dee8",
   "metadata": {},
   "outputs": [],
   "source": [
    "train_test_split"
   ]
  }
 ],
 "metadata": {
  "kernelspec": {
   "display_name": "Python 3 (ipykernel)",
   "language": "python",
   "name": "python3"
  },
  "language_info": {
   "codemirror_mode": {
    "name": "ipython",
    "version": 3
   },
   "file_extension": ".py",
   "mimetype": "text/x-python",
   "name": "python",
   "nbconvert_exporter": "python",
   "pygments_lexer": "ipython3",
   "version": "3.9.7"
  }
 },
 "nbformat": 4,
 "nbformat_minor": 5
}
